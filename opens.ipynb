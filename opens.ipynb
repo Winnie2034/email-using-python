{
 "cells": [
  {
   "cell_type": "code",
   "execution_count": 1,
   "metadata": {},
   "outputs": [],
   "source": [
    "import smtplib\n",
    "import xlrd \n",
    "def send_email(subject, msg, email):\n",
    "        server = smtplib.SMTP('smtp.gmail.com:587')\n",
    "        server.ehlo()\n",
    "        server.starttls()\n",
    "        server.login('campusblocksmait@gmail.com', 'blocks2019')\n",
    "        message = 'Subject: {} \\n\\n{}'.format(subject, msg)\n",
    "        server.sendmail('campusblocksmait@gmail.com', email,message)\n",
    "        server.quit()\n",
    "        \n",
    "        \n",
    "loc = (\"C:/Users/hp/Downloads/opensource.xlsx\") \n",
    "  \n",
    "wb = xlrd.open_workbook(loc) \n",
    "sheet = wb.sheet_by_index(0) \n",
    "sheet.cell_value(0, 0) \n",
    "  \n",
    "for i in range(0,sheet.nrows): \n",
    "    subject = 'open Source Development Workshop'\n",
    "    msg = 'Hey {}, \\nThis is to inform you that your registration is confirmed for Open source workshop in MAIT in association with Student Chapter of Coding Blocks. As we have Limited seats, the entry will be based on First Come Basis and no entry will be given after the room gets FILLED. So, be there by 10:30 AM to get your seat. \\nVenue: Lab 131-132, CSE Department, MAIT \\nThanks And Regards \\nCampus Blocks\\n\\n\\n'.format(sheet.cell_value(i, 1))\n",
    "    email = '{}'.format(sheet.cell_value(i, 2))\n",
    "    #send_email(subject,msg, email)"
   ]
  },
  {
   "cell_type": "code",
   "execution_count": null,
   "metadata": {},
   "outputs": [],
   "source": []
  },
  {
   "cell_type": "code",
   "execution_count": null,
   "metadata": {},
   "outputs": [],
   "source": [
    "import time\n",
    "time.sleep()"
   ]
  }
 ],
 "metadata": {
  "kernelspec": {
   "display_name": "Python 3",
   "language": "python",
   "name": "python3"
  },
  "language_info": {
   "codemirror_mode": {
    "name": "ipython",
    "version": 3
   },
   "file_extension": ".py",
   "mimetype": "text/x-python",
   "name": "python",
   "nbconvert_exporter": "python",
   "pygments_lexer": "ipython3",
   "version": "3.6.5"
  }
 },
 "nbformat": 4,
 "nbformat_minor": 2
}
